{
 "cells": [
  {
   "cell_type": "code",
   "execution_count": 1,
   "id": "2e18e1d4-0f3f-474f-8f62-9cad57ff361d",
   "metadata": {
    "tags": []
   },
   "outputs": [],
   "source": [
    "import pandas as pd \n",
    "%matplotlib inline\n",
    "import matplotlib.pyplot as plt\n",
    "import requests\n",
    "import pymongo\n",
    "import json "
   ]
  },
  {
   "cell_type": "code",
   "execution_count": 2,
   "id": "d2336acc-59f0-4338-9996-7325b92a1bd6",
   "metadata": {
    "tags": []
   },
   "outputs": [],
   "source": [
    "# placeholder for API keys to pull data from debank (for additional context + mongoDB directly) \n",
    "debankAPI = ''\n",
    "mongoAPI = ''"
   ]
  },
  {
   "cell_type": "code",
   "execution_count": 45,
   "id": "d83a23e4-e8b0-4ee7-be86-f03e73b2279b",
   "metadata": {
    "tags": []
   },
   "outputs": [],
   "source": [
    "myclient = pymongo.MongoClient(mongoAPI)\n",
    "\n",
    "mydb = myclient[\"65-1\"]\n",
    "collateral = mydb['accountcollaterals']\n",
    "debt = mydb['accountdebts']\n",
    "\n",
    "myquery = { \"account\": { \"$regex\": \"^0\" } }\n",
    "\n",
    "tst = collateral.find(myquery) \n",
    "dfCollateral = pd.DataFrame(tst)\n",
    "dfCollateral.to_csv(\"collateralRaw.csv\")\n",
    "\n",
    "tst = debt.find(myquery) \n",
    "dfDebt = pd.DataFrame(tst)\n",
    "dfDebt.to_csv(\"debtRaw.csv\")\n"
   ]
  },
  {
   "cell_type": "code",
   "execution_count": 46,
   "id": "c4885c75-176a-48ee-8ab3-730a5295a2a8",
   "metadata": {
    "tags": []
   },
   "outputs": [],
   "source": [
    "import json \n",
    "\n",
    "insightUsers = accounts\n",
    "\n",
    "headers = {'AccessKey': debankAPI}\n",
    "base_url = 'https://pro-openapi.debank.com/v1'\n",
    "total_balance = {}\n",
    "\n",
    "for user in insightUsers:\n",
    "    url = f'{base_url}/user/all_complex_protocol_list?id={user}'\n",
    "    #print(url)\n",
    "    res = requests.get(url, headers=headers)\n",
    "    data = res.json()\n",
    "    total_balance[user] = data\n",
    "    #print(json.dumps(data, indent=4))\n",
    "\n",
    "with open('./data.json', 'w') as f:\n",
    "    json.dump(total_balance, f)\n",
    "    \n",
    "    \n",
    "n = len(insightUsers)\n",
    "\n",
    "cleanData = []\n",
    "\n",
    "for user in insightUsers : \n",
    "    user_data = total_balance[user]\n",
    "    address = user\n",
    "    items = len(user_data)\n",
    "    for j in range(items) : \n",
    "        item = user_data[j]\n",
    "        \n",
    "        portfolioInfo = item['portfolio_item_list']\n",
    "        pItems = len(portfolioInfo)\n",
    "        value = 0\n",
    "        for p in range(pItems) : \n",
    "            value += item['portfolio_item_list'][p]['stats']['net_usd_value']\n",
    "            #asset = \n",
    "        appendItem = {\n",
    "            \"User\" : address,\n",
    "            \"Name\" : item['name'],\n",
    "            \"Chain\" : item['chain'],\n",
    "            \"Value\" : value\n",
    "        }\n",
    "        \n",
    "        cleanData.append(appendItem)\n",
    "        \n",
    "        \n",
    "userDf = pd.DataFrame(cleanData)\n",
    "userDf.to_csv(\"AAVEusers.csv\")\n"
   ]
  },
  {
   "cell_type": "code",
   "execution_count": 47,
   "id": "bccda459-4779-4780-8910-01ad6dedf4e2",
   "metadata": {
    "tags": []
   },
   "outputs": [],
   "source": [
    "dfCollateral = dfCollateral.sort_values(by='timestamp', ascending=False)\n",
    "dfDebt = dfDebt.sort_values(by='timestamp', ascending=False)"
   ]
  },
  {
   "cell_type": "code",
   "execution_count": 48,
   "id": "5dbac318-1091-4b15-93b1-3a9e11288ef4",
   "metadata": {
    "tags": []
   },
   "outputs": [],
   "source": [
    "startTime = min(dfDebt['timestamp'].min(), dfCollateral['timestamp'].min())\n",
    "endTime = max(dfDebt['timestamp'].max(), dfCollateral['timestamp'].max())\n",
    "accounts = dfCollateral['account'].unique()\n",
    "\n",
    "collatTokens = dfCollateral['symbol'].unique()\n",
    "debtTokens = dfDebt['symbol'].unique()\n",
    "\n"
   ]
  },
  {
   "cell_type": "code",
   "execution_count": 49,
   "id": "636f2161-3346-48ee-bacd-b616aab86ca4",
   "metadata": {
    "tags": []
   },
   "outputs": [],
   "source": [
    "t = int( (endTime - startTime) / 3600)"
   ]
  },
  {
   "cell_type": "code",
   "execution_count": 50,
   "id": "1b99f9e2-2a0b-485b-b69f-02b6a2fab5ac",
   "metadata": {
    "tags": []
   },
   "outputs": [],
   "source": [
    "def fillDebtData(token) : \n",
    "\n",
    "    time = []\n",
    "    totalAmount = []\n",
    "    totalAmountUSD = []\n",
    "    totalUsers = []\n",
    "    tokenList = []\n",
    "    _time = startTime\n",
    "\n",
    "    dfToken = dfDebt[dfDebt['symbol'] == token]\n",
    "    for i in range(t) : \n",
    "        dfRed = dfToken[dfToken['timestamp'] < _time] \n",
    "        dfRed = dfRed.drop_duplicates(subset=['account'])\n",
    "        time.append(_time)\n",
    "        totalAmount.append(sum(dfRed['debtAmountTotal']))\n",
    "        totalAmountUSD.append(sum(dfRed['debtAmountTotalUsd']))\n",
    "        totalUsers.append(len(dfRed))\n",
    "        _time += 3600 \n",
    "\n",
    "    dfOut = pd.DataFrame({\n",
    "        'token' : token, \n",
    "        'timeStamp' : time,\n",
    "        'totalDebt' : totalAmount,\n",
    "        'totalDebtUsd' : totalAmountUSD, \n",
    "        'totalUsers' : totalUsers}\n",
    "    )\n",
    "    dfOut['date'] = pd.to_datetime(dfOut['timeStamp'], unit='s').dt.strftime('%Y-%m-%d %H:%M:%S')\n",
    "    return dfOut"
   ]
  },
  {
   "cell_type": "code",
   "execution_count": 51,
   "id": "40863c10-ef82-4cdb-8b2f-4b83aa7a0f75",
   "metadata": {
    "tags": []
   },
   "outputs": [
    {
     "data": {
      "text/plain": [
       "array(['variableDebtEthDAI', 'variableDebtEthWETH', 'stableDebtEthDAI',\n",
       "       'variableDebtEthUSDC', 'variableDebtEthUSDT', 'stableDebtEthUSDT',\n",
       "       'stableDebtEthUSDC', 'variableDebtEthWBTC', 'variableDebtEthEURS',\n",
       "       'variableDebtEthLINK', 'stableDebtEthEURS'], dtype=object)"
      ]
     },
     "execution_count": 51,
     "metadata": {},
     "output_type": "execute_result"
    }
   ],
   "source": [
    "debtTokens"
   ]
  },
  {
   "cell_type": "code",
   "execution_count": 52,
   "id": "e61466e5-c593-41f9-819d-ee29872dbc3d",
   "metadata": {
    "tags": []
   },
   "outputs": [],
   "source": [
    "dfOut = fillDebtData(debtTokens[0])"
   ]
  },
  {
   "cell_type": "code",
   "execution_count": 53,
   "id": "80967d4b-5b75-420b-8b5a-700d8a57af39",
   "metadata": {
    "tags": []
   },
   "outputs": [
    {
     "data": {
      "text/html": [
       "<div>\n",
       "<style scoped>\n",
       "    .dataframe tbody tr th:only-of-type {\n",
       "        vertical-align: middle;\n",
       "    }\n",
       "\n",
       "    .dataframe tbody tr th {\n",
       "        vertical-align: top;\n",
       "    }\n",
       "\n",
       "    .dataframe thead th {\n",
       "        text-align: right;\n",
       "    }\n",
       "</style>\n",
       "<table border=\"1\" class=\"dataframe\">\n",
       "  <thead>\n",
       "    <tr style=\"text-align: right;\">\n",
       "      <th></th>\n",
       "      <th>token</th>\n",
       "      <th>timeStamp</th>\n",
       "      <th>totalDebt</th>\n",
       "      <th>totalDebtUsd</th>\n",
       "      <th>totalUsers</th>\n",
       "      <th>date</th>\n",
       "    </tr>\n",
       "  </thead>\n",
       "  <tbody>\n",
       "    <tr>\n",
       "      <th>0</th>\n",
       "      <td>variableDebtEthDAI</td>\n",
       "      <td>1677842664</td>\n",
       "      <td>0.000000</td>\n",
       "      <td>0.000000</td>\n",
       "      <td>0</td>\n",
       "      <td>2023-03-03 11:24:24</td>\n",
       "    </tr>\n",
       "    <tr>\n",
       "      <th>1</th>\n",
       "      <td>variableDebtEthDAI</td>\n",
       "      <td>1677846264</td>\n",
       "      <td>1300.663192</td>\n",
       "      <td>1300.663192</td>\n",
       "      <td>2</td>\n",
       "      <td>2023-03-03 12:24:24</td>\n",
       "    </tr>\n",
       "    <tr>\n",
       "      <th>2</th>\n",
       "      <td>variableDebtEthDAI</td>\n",
       "      <td>1677849864</td>\n",
       "      <td>1300.663192</td>\n",
       "      <td>1300.663192</td>\n",
       "      <td>2</td>\n",
       "      <td>2023-03-03 13:24:24</td>\n",
       "    </tr>\n",
       "    <tr>\n",
       "      <th>3</th>\n",
       "      <td>variableDebtEthDAI</td>\n",
       "      <td>1677853464</td>\n",
       "      <td>1300.663192</td>\n",
       "      <td>1300.663192</td>\n",
       "      <td>2</td>\n",
       "      <td>2023-03-03 14:24:24</td>\n",
       "    </tr>\n",
       "    <tr>\n",
       "      <th>4</th>\n",
       "      <td>variableDebtEthDAI</td>\n",
       "      <td>1677857064</td>\n",
       "      <td>1300.663192</td>\n",
       "      <td>1300.663192</td>\n",
       "      <td>2</td>\n",
       "      <td>2023-03-03 15:24:24</td>\n",
       "    </tr>\n",
       "    <tr>\n",
       "      <th>...</th>\n",
       "      <td>...</td>\n",
       "      <td>...</td>\n",
       "      <td>...</td>\n",
       "      <td>...</td>\n",
       "      <td>...</td>\n",
       "      <td>...</td>\n",
       "    </tr>\n",
       "    <tr>\n",
       "      <th>1031</th>\n",
       "      <td>variableDebtEthDAI</td>\n",
       "      <td>1681554264</td>\n",
       "      <td>458893.132586</td>\n",
       "      <td>458893.132586</td>\n",
       "      <td>219</td>\n",
       "      <td>2023-04-15 10:24:24</td>\n",
       "    </tr>\n",
       "    <tr>\n",
       "      <th>1032</th>\n",
       "      <td>variableDebtEthDAI</td>\n",
       "      <td>1681557864</td>\n",
       "      <td>458893.132586</td>\n",
       "      <td>458893.132586</td>\n",
       "      <td>219</td>\n",
       "      <td>2023-04-15 11:24:24</td>\n",
       "    </tr>\n",
       "    <tr>\n",
       "      <th>1033</th>\n",
       "      <td>variableDebtEthDAI</td>\n",
       "      <td>1681561464</td>\n",
       "      <td>458893.132586</td>\n",
       "      <td>458893.132586</td>\n",
       "      <td>219</td>\n",
       "      <td>2023-04-15 12:24:24</td>\n",
       "    </tr>\n",
       "    <tr>\n",
       "      <th>1034</th>\n",
       "      <td>variableDebtEthDAI</td>\n",
       "      <td>1681565064</td>\n",
       "      <td>458893.132586</td>\n",
       "      <td>458893.132586</td>\n",
       "      <td>219</td>\n",
       "      <td>2023-04-15 13:24:24</td>\n",
       "    </tr>\n",
       "    <tr>\n",
       "      <th>1035</th>\n",
       "      <td>variableDebtEthDAI</td>\n",
       "      <td>1681568664</td>\n",
       "      <td>458893.132586</td>\n",
       "      <td>458893.132586</td>\n",
       "      <td>219</td>\n",
       "      <td>2023-04-15 14:24:24</td>\n",
       "    </tr>\n",
       "  </tbody>\n",
       "</table>\n",
       "<p>1036 rows × 6 columns</p>\n",
       "</div>"
      ],
      "text/plain": [
       "                   token   timeStamp      totalDebt   totalDebtUsd   \n",
       "0     variableDebtEthDAI  1677842664       0.000000       0.000000  \\\n",
       "1     variableDebtEthDAI  1677846264    1300.663192    1300.663192   \n",
       "2     variableDebtEthDAI  1677849864    1300.663192    1300.663192   \n",
       "3     variableDebtEthDAI  1677853464    1300.663192    1300.663192   \n",
       "4     variableDebtEthDAI  1677857064    1300.663192    1300.663192   \n",
       "...                  ...         ...            ...            ...   \n",
       "1031  variableDebtEthDAI  1681554264  458893.132586  458893.132586   \n",
       "1032  variableDebtEthDAI  1681557864  458893.132586  458893.132586   \n",
       "1033  variableDebtEthDAI  1681561464  458893.132586  458893.132586   \n",
       "1034  variableDebtEthDAI  1681565064  458893.132586  458893.132586   \n",
       "1035  variableDebtEthDAI  1681568664  458893.132586  458893.132586   \n",
       "\n",
       "      totalUsers                 date  \n",
       "0              0  2023-03-03 11:24:24  \n",
       "1              2  2023-03-03 12:24:24  \n",
       "2              2  2023-03-03 13:24:24  \n",
       "3              2  2023-03-03 14:24:24  \n",
       "4              2  2023-03-03 15:24:24  \n",
       "...          ...                  ...  \n",
       "1031         219  2023-04-15 10:24:24  \n",
       "1032         219  2023-04-15 11:24:24  \n",
       "1033         219  2023-04-15 12:24:24  \n",
       "1034         219  2023-04-15 13:24:24  \n",
       "1035         219  2023-04-15 14:24:24  \n",
       "\n",
       "[1036 rows x 6 columns]"
      ]
     },
     "execution_count": 53,
     "metadata": {},
     "output_type": "execute_result"
    }
   ],
   "source": [
    "dfOut"
   ]
  },
  {
   "cell_type": "code",
   "execution_count": 54,
   "id": "d81c6e0a-4351-4699-9263-8ff67db66415",
   "metadata": {
    "tags": []
   },
   "outputs": [
    {
     "data": {
      "text/plain": [
       "<matplotlib.legend.Legend at 0x13b954c70>"
      ]
     },
     "execution_count": 54,
     "metadata": {},
     "output_type": "execute_result"
    },
    {
     "data": {
      "image/png": "[encoded data removed]",
      "text/plain": [
       "<Figure size 1500x500 with 2 Axes>"
      ]
     },
     "metadata": {},
     "output_type": "display_data"
    }
   ],
   "source": [
    "fig = plt.figure()\n",
    "fig.set_size_inches(15,5)\n",
    "\n",
    "#fig.subplots_adjust(hspace=1, wspace=1)\n",
    "\n",
    "ax = fig.add_subplot(1, 1, 1)\n",
    "ax.plot(dfOut['totalDebt'], color = 'blue', label = 'Total Debt' )\n",
    "ax2 = ax.twinx()\n",
    "ax2.plot(dfOut['totalUsers'], color = 'grey', label = 'Total Users' )\n",
    "\n",
    "ax.legend(loc = 'upper left')\n",
    "ax2.legend(loc = 'lower right')"
   ]
  }
 ],
 "metadata": {
  "kernelspec": {
   "display_name": "Python 3 (ipykernel)",
   "language": "python",
   "name": "python3"
  },
  "language_info": {
   "codemirror_mode": {
    "name": "ipython",
    "version": 3
   },
   "file_extension": ".py",
   "mimetype": "text/x-python",
   "name": "python",
   "nbconvert_exporter": "python",
   "pygments_lexer": "ipython3",
   "version": "3.9.13"
  }
 },
 "nbformat": 4,
 "nbformat_minor": 5
}
